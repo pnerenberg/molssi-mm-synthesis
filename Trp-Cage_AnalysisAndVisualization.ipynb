{
 "cells": [
  {
   "cell_type": "code",
   "execution_count": 34,
   "metadata": {},
   "outputs": [],
   "source": [
    "import numpy as np\n",
    "import matplotlib.pyplot as plt\n",
    "import mdtraj as md\n",
    "import nglview as nv\n",
    "%matplotlib inline"
   ]
  },
  {
   "cell_type": "markdown",
   "metadata": {},
   "source": [
    "First load the trajectory:"
   ]
  },
  {
   "cell_type": "code",
   "execution_count": 35,
   "metadata": {},
   "outputs": [],
   "source": [
    "traj = md.load_dcd('trajectory-optionA-k-100.dcd', top='trpcage.pdb')"
   ]
  },
  {
   "cell_type": "markdown",
   "metadata": {},
   "source": [
    "And here are a couple of different ways of visualizing the trajectory:"
   ]
  },
  {
   "cell_type": "code",
   "execution_count": 36,
   "metadata": {},
   "outputs": [
    {
     "data": {
      "application/vnd.jupyter.widget-view+json": {
       "model_id": "57b288b9444145c6aa57d0d25e832948",
       "version_major": 2,
       "version_minor": 0
      },
      "text/plain": [
       "NGLWidget(max_frame=199)"
      ]
     },
     "metadata": {},
     "output_type": "display_data"
    }
   ],
   "source": [
    "view = nv.show_mdtraj(traj)\n",
    "view.clear_representations()\n",
    "view.add_representation(repr_type='cartoon', selection='protein', color='forestgreen')\n",
    "view.add_representation('licorice', selection='protein')\n",
    "## the next two commented lines may be useful for those who are doing ##\n",
    "## the first option in the activity (adding an extra force)           ## \n",
    "view.add_representation('surface', selection='1.CA or 20.CA', surfaceType='vws')\n",
    "view.add_distance(atom_pair=[['1.CA', '20.CA']],label_color='black')\n",
    "view"
   ]
  },
  {
   "cell_type": "code",
   "execution_count": 37,
   "metadata": {},
   "outputs": [],
   "source": [
    "traj = md.load_dcd('trajectory-optionA-k-10.dcd', top='trpcage.pdb')"
   ]
  },
  {
   "cell_type": "code",
   "execution_count": 38,
   "metadata": {},
   "outputs": [
    {
     "data": {
      "application/vnd.jupyter.widget-view+json": {
       "model_id": "0794fb1ba64747438612cd43cbe56ceb",
       "version_major": 2,
       "version_minor": 0
      },
      "text/plain": [
       "NGLWidget(max_frame=199)"
      ]
     },
     "metadata": {},
     "output_type": "display_data"
    }
   ],
   "source": [
    "view = nv.show_mdtraj(traj)\n",
    "view.clear_representations()\n",
    "view.add_representation(repr_type='cartoon', selection='protein', color='forestgreen')\n",
    "view.add_representation('licorice', selection='protein')\n",
    "## the next two commented lines may be useful for those who are doing ##\n",
    "## the first option in the activity (adding an extra force)           ## \n",
    "view.add_representation('surface', selection='1.CA or 20.CA', surfaceType='vws')\n",
    "view.add_distance(atom_pair=[['1.CA', '20.CA']],label_color='black')\n",
    "view"
   ]
  },
  {
   "cell_type": "code",
   "execution_count": 39,
   "metadata": {},
   "outputs": [],
   "source": [
    "traj = md.load_dcd('trajectory-optionA-k-1000.dcd', top='trpcage.pdb')"
   ]
  },
  {
   "cell_type": "code",
   "execution_count": null,
   "metadata": {},
   "outputs": [],
   "source": [
    "view = nv.show_mdtraj(traj)\n",
    "view.clear_representations()\n",
    "view.add_representation(repr_type='cartoon', selection='protein', color='forestgreen')\n",
    "view.add_representation('licorice', selection='protein')\n",
    "## the next two commented lines may be useful for those who are doing ##\n",
    "## the first option in the activity (adding an extra force)           ## \n",
    "view.add_representation('surface', selection='1.CA or 20.CA', surfaceType='vws')\n",
    "view.add_distance(atom_pair=[['1.CA', '20.CA']],label_color='black')\n",
    "view"
   ]
  },
  {
   "cell_type": "code",
   "execution_count": null,
   "metadata": {},
   "outputs": [],
   "source": []
  }
 ],
 "metadata": {
  "kernelspec": {
   "display_name": "Python 3",
   "language": "python",
   "name": "python3"
  },
  "language_info": {
   "codemirror_mode": {
    "name": "ipython",
    "version": 3
   },
   "file_extension": ".py",
   "mimetype": "text/x-python",
   "name": "python",
   "nbconvert_exporter": "python",
   "pygments_lexer": "ipython3",
   "version": "3.8.10"
  }
 },
 "nbformat": 4,
 "nbformat_minor": 2
}
